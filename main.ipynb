{
 "cells": [
  {
   "cell_type": "markdown",
   "source": [
    "# 泰坦尼克号船员生还预测模型\n",
    "# ——Python数据分析小组实践\n",
    "软金特2101班 黄旭达 付会柱 刘干\n",
    "2022年11月5日"
   ],
   "metadata": {
    "collapsed": false,
    "pycharm": {
     "name": "#%% md\n"
    }
   }
  },
  {
   "cell_type": "markdown",
   "source": [
    "## 科学计算和机器学习函数库调用"
   ],
   "metadata": {
    "collapsed": false,
    "pycharm": {
     "name": "#%% md\n"
    }
   }
  },
  {
   "cell_type": "code",
   "execution_count": 2,
   "outputs": [],
   "source": [
    "import matplotlib.pyplot as plt\n",
    "%matplotlib inline\n",
    "import numpy as np\n",
    "import pandas as pd\n",
    "import re"
   ],
   "metadata": {
    "collapsed": false,
    "pycharm": {
     "name": "#%%\n"
    }
   }
  },
  {
   "cell_type": "markdown",
   "source": [
    "## 数据读取"
   ],
   "metadata": {
    "collapsed": false,
    "pycharm": {
     "name": "#%% md\n"
    }
   }
  },
  {
   "cell_type": "code",
   "execution_count": 3,
   "outputs": [],
   "source": [
    "df = pd.read_csv(\"data/train.csv\")"
   ],
   "metadata": {
    "collapsed": false,
    "pycharm": {
     "name": "#%%\n"
    }
   }
  },
  {
   "cell_type": "markdown",
   "source": [
    "## 读取后的数据"
   ],
   "metadata": {
    "collapsed": false,
    "pycharm": {
     "name": "#%% md\n"
    }
   }
  },
  {
   "cell_type": "code",
   "execution_count": 4,
   "outputs": [
    {
     "data": {
      "text/plain": "     PassengerId  Survived  Pclass  \\\n0              1         0       3   \n1              2         1       1   \n2              3         1       3   \n3              4         1       1   \n4              5         0       3   \n..           ...       ...     ...   \n886          887         0       2   \n887          888         1       1   \n888          889         0       3   \n889          890         1       1   \n890          891         0       3   \n\n                                                  Name     Sex   Age  SibSp  \\\n0                              Braund, Mr. Owen Harris    male  22.0      1   \n1    Cumings, Mrs. John Bradley (Florence Briggs Th...  female  38.0      1   \n2                               Heikkinen, Miss. Laina  female  26.0      0   \n3         Futrelle, Mrs. Jacques Heath (Lily May Peel)  female  35.0      1   \n4                             Allen, Mr. William Henry    male  35.0      0   \n..                                                 ...     ...   ...    ...   \n886                              Montvila, Rev. Juozas    male  27.0      0   \n887                       Graham, Miss. Margaret Edith  female  19.0      0   \n888           Johnston, Miss. Catherine Helen \"Carrie\"  female   NaN      1   \n889                              Behr, Mr. Karl Howell    male  26.0      0   \n890                                Dooley, Mr. Patrick    male  32.0      0   \n\n     Parch            Ticket     Fare Cabin Embarked  \n0        0         A/5 21171   7.2500   NaN        S  \n1        0          PC 17599  71.2833   C85        C  \n2        0  STON/O2. 3101282   7.9250   NaN        S  \n3        0            113803  53.1000  C123        S  \n4        0            373450   8.0500   NaN        S  \n..     ...               ...      ...   ...      ...  \n886      0            211536  13.0000   NaN        S  \n887      0            112053  30.0000   B42        S  \n888      2        W./C. 6607  23.4500   NaN        S  \n889      0            111369  30.0000  C148        C  \n890      0            370376   7.7500   NaN        Q  \n\n[891 rows x 12 columns]",
      "text/html": "<div>\n<style scoped>\n    .dataframe tbody tr th:only-of-type {\n        vertical-align: middle;\n    }\n\n    .dataframe tbody tr th {\n        vertical-align: top;\n    }\n\n    .dataframe thead th {\n        text-align: right;\n    }\n</style>\n<table border=\"1\" class=\"dataframe\">\n  <thead>\n    <tr style=\"text-align: right;\">\n      <th></th>\n      <th>PassengerId</th>\n      <th>Survived</th>\n      <th>Pclass</th>\n      <th>Name</th>\n      <th>Sex</th>\n      <th>Age</th>\n      <th>SibSp</th>\n      <th>Parch</th>\n      <th>Ticket</th>\n      <th>Fare</th>\n      <th>Cabin</th>\n      <th>Embarked</th>\n    </tr>\n  </thead>\n  <tbody>\n    <tr>\n      <th>0</th>\n      <td>1</td>\n      <td>0</td>\n      <td>3</td>\n      <td>Braund, Mr. Owen Harris</td>\n      <td>male</td>\n      <td>22.0</td>\n      <td>1</td>\n      <td>0</td>\n      <td>A/5 21171</td>\n      <td>7.2500</td>\n      <td>NaN</td>\n      <td>S</td>\n    </tr>\n    <tr>\n      <th>1</th>\n      <td>2</td>\n      <td>1</td>\n      <td>1</td>\n      <td>Cumings, Mrs. John Bradley (Florence Briggs Th...</td>\n      <td>female</td>\n      <td>38.0</td>\n      <td>1</td>\n      <td>0</td>\n      <td>PC 17599</td>\n      <td>71.2833</td>\n      <td>C85</td>\n      <td>C</td>\n    </tr>\n    <tr>\n      <th>2</th>\n      <td>3</td>\n      <td>1</td>\n      <td>3</td>\n      <td>Heikkinen, Miss. Laina</td>\n      <td>female</td>\n      <td>26.0</td>\n      <td>0</td>\n      <td>0</td>\n      <td>STON/O2. 3101282</td>\n      <td>7.9250</td>\n      <td>NaN</td>\n      <td>S</td>\n    </tr>\n    <tr>\n      <th>3</th>\n      <td>4</td>\n      <td>1</td>\n      <td>1</td>\n      <td>Futrelle, Mrs. Jacques Heath (Lily May Peel)</td>\n      <td>female</td>\n      <td>35.0</td>\n      <td>1</td>\n      <td>0</td>\n      <td>113803</td>\n      <td>53.1000</td>\n      <td>C123</td>\n      <td>S</td>\n    </tr>\n    <tr>\n      <th>4</th>\n      <td>5</td>\n      <td>0</td>\n      <td>3</td>\n      <td>Allen, Mr. William Henry</td>\n      <td>male</td>\n      <td>35.0</td>\n      <td>0</td>\n      <td>0</td>\n      <td>373450</td>\n      <td>8.0500</td>\n      <td>NaN</td>\n      <td>S</td>\n    </tr>\n    <tr>\n      <th>...</th>\n      <td>...</td>\n      <td>...</td>\n      <td>...</td>\n      <td>...</td>\n      <td>...</td>\n      <td>...</td>\n      <td>...</td>\n      <td>...</td>\n      <td>...</td>\n      <td>...</td>\n      <td>...</td>\n      <td>...</td>\n    </tr>\n    <tr>\n      <th>886</th>\n      <td>887</td>\n      <td>0</td>\n      <td>2</td>\n      <td>Montvila, Rev. Juozas</td>\n      <td>male</td>\n      <td>27.0</td>\n      <td>0</td>\n      <td>0</td>\n      <td>211536</td>\n      <td>13.0000</td>\n      <td>NaN</td>\n      <td>S</td>\n    </tr>\n    <tr>\n      <th>887</th>\n      <td>888</td>\n      <td>1</td>\n      <td>1</td>\n      <td>Graham, Miss. Margaret Edith</td>\n      <td>female</td>\n      <td>19.0</td>\n      <td>0</td>\n      <td>0</td>\n      <td>112053</td>\n      <td>30.0000</td>\n      <td>B42</td>\n      <td>S</td>\n    </tr>\n    <tr>\n      <th>888</th>\n      <td>889</td>\n      <td>0</td>\n      <td>3</td>\n      <td>Johnston, Miss. Catherine Helen \"Carrie\"</td>\n      <td>female</td>\n      <td>NaN</td>\n      <td>1</td>\n      <td>2</td>\n      <td>W./C. 6607</td>\n      <td>23.4500</td>\n      <td>NaN</td>\n      <td>S</td>\n    </tr>\n    <tr>\n      <th>889</th>\n      <td>890</td>\n      <td>1</td>\n      <td>1</td>\n      <td>Behr, Mr. Karl Howell</td>\n      <td>male</td>\n      <td>26.0</td>\n      <td>0</td>\n      <td>0</td>\n      <td>111369</td>\n      <td>30.0000</td>\n      <td>C148</td>\n      <td>C</td>\n    </tr>\n    <tr>\n      <th>890</th>\n      <td>891</td>\n      <td>0</td>\n      <td>3</td>\n      <td>Dooley, Mr. Patrick</td>\n      <td>male</td>\n      <td>32.0</td>\n      <td>0</td>\n      <td>0</td>\n      <td>370376</td>\n      <td>7.7500</td>\n      <td>NaN</td>\n      <td>Q</td>\n    </tr>\n  </tbody>\n</table>\n<p>891 rows × 12 columns</p>\n</div>"
     },
     "execution_count": 4,
     "metadata": {},
     "output_type": "execute_result"
    }
   ],
   "source": [
    "df"
   ],
   "metadata": {
    "collapsed": false,
    "pycharm": {
     "name": "#%%\n"
    }
   }
  },
  {
   "cell_type": "markdown",
   "source": [
    "## 对数据初步浏览"
   ],
   "metadata": {
    "collapsed": false,
    "pycharm": {
     "name": "#%% md\n"
    }
   }
  },
  {
   "cell_type": "markdown",
   "source": [
    "### 部分表头对应意义\n",
    "* Survived：是否存活（1为真0为假）\n",
    "* PClass：乘客舱等级(一/二/三等舱位)\n",
    "* SibSp：堂兄弟/妹个数\n",
    "* Parch：父母与小孩个数\n",
    "* Ticket：票号\n",
    "* Fare：票价\n",
    "* Cabin：客舱号\n",
    "* Embarked：登船港口\n",
    "\n",
    "### 对数据各项情况进行检查\n",
    "#### 1. 数据分布情况"
   ],
   "metadata": {
    "collapsed": false,
    "pycharm": {
     "name": "#%% md\n"
    }
   }
  },
  {
   "cell_type": "code",
   "execution_count": 5,
   "outputs": [
    {
     "name": "stdout",
     "output_type": "stream",
     "text": [
      "<class 'pandas.core.frame.DataFrame'>\n",
      "RangeIndex: 891 entries, 0 to 890\n",
      "Data columns (total 12 columns):\n",
      " #   Column       Non-Null Count  Dtype  \n",
      "---  ------       --------------  -----  \n",
      " 0   PassengerId  891 non-null    int64  \n",
      " 1   Survived     891 non-null    int64  \n",
      " 2   Pclass       891 non-null    int64  \n",
      " 3   Name         891 non-null    object \n",
      " 4   Sex          891 non-null    object \n",
      " 5   Age          714 non-null    float64\n",
      " 6   SibSp        891 non-null    int64  \n",
      " 7   Parch        891 non-null    int64  \n",
      " 8   Ticket       891 non-null    object \n",
      " 9   Fare         891 non-null    float64\n",
      " 10  Cabin        204 non-null    object \n",
      " 11  Embarked     889 non-null    object \n",
      "dtypes: float64(2), int64(5), object(5)\n",
      "memory usage: 83.7+ KB\n",
      "None\n"
     ]
    }
   ],
   "source": [
    "print(df.info())"
   ],
   "metadata": {
    "collapsed": false,
    "pycharm": {
     "name": "#%%\n"
    }
   }
  },
  {
   "cell_type": "markdown",
   "source": [
    "#### 2.数值类型数据统计情况"
   ],
   "metadata": {
    "collapsed": false,
    "pycharm": {
     "name": "#%% md\n"
    }
   }
  },
  {
   "cell_type": "code",
   "execution_count": 6,
   "outputs": [
    {
     "data": {
      "text/plain": "       PassengerId    Survived      Pclass         Age       SibSp  \\\ncount   891.000000  891.000000  891.000000  714.000000  891.000000   \nmean    446.000000    0.383838    2.308642   29.699118    0.523008   \nstd     257.353842    0.486592    0.836071   14.526497    1.102743   \nmin       1.000000    0.000000    1.000000    0.420000    0.000000   \n25%     223.500000    0.000000    2.000000   20.125000    0.000000   \n50%     446.000000    0.000000    3.000000   28.000000    0.000000   \n75%     668.500000    1.000000    3.000000   38.000000    1.000000   \nmax     891.000000    1.000000    3.000000   80.000000    8.000000   \n\n            Parch        Fare  \ncount  891.000000  891.000000  \nmean     0.381594   32.204208  \nstd      0.806057   49.693429  \nmin      0.000000    0.000000  \n25%      0.000000    7.910400  \n50%      0.000000   14.454200  \n75%      0.000000   31.000000  \nmax      6.000000  512.329200  ",
      "text/html": "<div>\n<style scoped>\n    .dataframe tbody tr th:only-of-type {\n        vertical-align: middle;\n    }\n\n    .dataframe tbody tr th {\n        vertical-align: top;\n    }\n\n    .dataframe thead th {\n        text-align: right;\n    }\n</style>\n<table border=\"1\" class=\"dataframe\">\n  <thead>\n    <tr style=\"text-align: right;\">\n      <th></th>\n      <th>PassengerId</th>\n      <th>Survived</th>\n      <th>Pclass</th>\n      <th>Age</th>\n      <th>SibSp</th>\n      <th>Parch</th>\n      <th>Fare</th>\n    </tr>\n  </thead>\n  <tbody>\n    <tr>\n      <th>count</th>\n      <td>891.000000</td>\n      <td>891.000000</td>\n      <td>891.000000</td>\n      <td>714.000000</td>\n      <td>891.000000</td>\n      <td>891.000000</td>\n      <td>891.000000</td>\n    </tr>\n    <tr>\n      <th>mean</th>\n      <td>446.000000</td>\n      <td>0.383838</td>\n      <td>2.308642</td>\n      <td>29.699118</td>\n      <td>0.523008</td>\n      <td>0.381594</td>\n      <td>32.204208</td>\n    </tr>\n    <tr>\n      <th>std</th>\n      <td>257.353842</td>\n      <td>0.486592</td>\n      <td>0.836071</td>\n      <td>14.526497</td>\n      <td>1.102743</td>\n      <td>0.806057</td>\n      <td>49.693429</td>\n    </tr>\n    <tr>\n      <th>min</th>\n      <td>1.000000</td>\n      <td>0.000000</td>\n      <td>1.000000</td>\n      <td>0.420000</td>\n      <td>0.000000</td>\n      <td>0.000000</td>\n      <td>0.000000</td>\n    </tr>\n    <tr>\n      <th>25%</th>\n      <td>223.500000</td>\n      <td>0.000000</td>\n      <td>2.000000</td>\n      <td>20.125000</td>\n      <td>0.000000</td>\n      <td>0.000000</td>\n      <td>7.910400</td>\n    </tr>\n    <tr>\n      <th>50%</th>\n      <td>446.000000</td>\n      <td>0.000000</td>\n      <td>3.000000</td>\n      <td>28.000000</td>\n      <td>0.000000</td>\n      <td>0.000000</td>\n      <td>14.454200</td>\n    </tr>\n    <tr>\n      <th>75%</th>\n      <td>668.500000</td>\n      <td>1.000000</td>\n      <td>3.000000</td>\n      <td>38.000000</td>\n      <td>1.000000</td>\n      <td>0.000000</td>\n      <td>31.000000</td>\n    </tr>\n    <tr>\n      <th>max</th>\n      <td>891.000000</td>\n      <td>1.000000</td>\n      <td>3.000000</td>\n      <td>80.000000</td>\n      <td>8.000000</td>\n      <td>6.000000</td>\n      <td>512.329200</td>\n    </tr>\n  </tbody>\n</table>\n</div>"
     },
     "execution_count": 6,
     "metadata": {},
     "output_type": "execute_result"
    }
   ],
   "source": [
    "df.describe()"
   ],
   "metadata": {
    "collapsed": false,
    "pycharm": {
     "name": "#%%\n"
    }
   }
  },
  {
   "cell_type": "markdown",
   "source": [
    "由上表可知\n",
    "* Pclass最小值为1，最大值为3，均值为2.3，说明三等舱位的应该是多数\n",
    "* Age最小值为0.17，最大值为80，均值为29.88，最大最小值需要再观察一下\n",
    "* Fare最小值为0，最大值为512，std为51，波动较大，需要注意\n",
    "\n",
    "### 初步浏览的发现\n",
    "1. Survived 标签列可以看出一共891条训练数据。\n",
    "其中，数值型数据(int、float类型)包括\n",
    "* PassenegerId\n",
    "* Survived\n",
    "* Pclass\n",
    "* Age\n",
    "* SibSp\n",
    "* Parch\n",
    "* Fare\n",
    "**总体数据中，Age、Fare、Cabin 和Embarked 均存在不同程序的缺失，可能会对训练结果造成不良影响，需要进行清洗**\n",
    "2. 针对数值型数据\n",
    "* 三等舱位是多数，统计时可以单独作为一个指标与一、二等对立\n",
    "* 年龄最值需要再观察\n",
    "* 票价波动较大，可能有特殊数据，需要注意"
   ],
   "metadata": {
    "collapsed": false,
    "pycharm": {
     "name": "#%% md\n"
    }
   }
  },
  {
   "cell_type": "markdown",
   "source": [
    "## 字段分析\n",
    "分析具体的字段含义，更有利于进行缺失值的填补\n",
    "Name 列数据是通过逗号分隔开（即Last Name，First Name），可以考虑从中获取信息\n",
    "例如：同一姓氏的人可能是一个小团体，所以，我们将姓名进行分离。"
   ],
   "metadata": {
    "collapsed": false,
    "pycharm": {
     "name": "#%% md\n"
    }
   }
  },
  {
   "cell_type": "code",
   "execution_count": 7,
   "outputs": [],
   "source": [
    "# 将名和姓分离\n",
    "df['Last_Name'] = df['Name'].apply(lambda name: name.split(',')[0])\n",
    "df['First_Name'] = df['Name'].apply(lambda name: name.split(',')[1])"
   ],
   "metadata": {
    "collapsed": false,
    "pycharm": {
     "name": "#%%\n"
    }
   }
  },
  {
   "cell_type": "markdown",
   "source": [
    "分离后，原有数据的前10条如下："
   ],
   "metadata": {
    "collapsed": false,
    "pycharm": {
     "name": "#%% md\n"
    }
   }
  },
  {
   "cell_type": "code",
   "execution_count": 8,
   "outputs": [
    {
     "data": {
      "text/plain": "                                                Name  \\\n0                            Braund, Mr. Owen Harris   \n1  Cumings, Mrs. John Bradley (Florence Briggs Th...   \n2                             Heikkinen, Miss. Laina   \n3       Futrelle, Mrs. Jacques Heath (Lily May Peel)   \n4                           Allen, Mr. William Henry   \n5                                   Moran, Mr. James   \n6                            McCarthy, Mr. Timothy J   \n7                     Palsson, Master. Gosta Leonard   \n8  Johnson, Mrs. Oscar W (Elisabeth Vilhelmina Berg)   \n9                Nasser, Mrs. Nicholas (Adele Achem)   \n\n                                    First_Name  Last_Name  \n0                              Mr. Owen Harris     Braund  \n1   Mrs. John Bradley (Florence Briggs Thayer)    Cumings  \n2                                  Miss. Laina  Heikkinen  \n3           Mrs. Jacques Heath (Lily May Peel)   Futrelle  \n4                            Mr. William Henry      Allen  \n5                                    Mr. James      Moran  \n6                                Mr. Timothy J   McCarthy  \n7                        Master. Gosta Leonard    Palsson  \n8     Mrs. Oscar W (Elisabeth Vilhelmina Berg)    Johnson  \n9                  Mrs. Nicholas (Adele Achem)     Nasser  ",
      "text/html": "<div>\n<style scoped>\n    .dataframe tbody tr th:only-of-type {\n        vertical-align: middle;\n    }\n\n    .dataframe tbody tr th {\n        vertical-align: top;\n    }\n\n    .dataframe thead th {\n        text-align: right;\n    }\n</style>\n<table border=\"1\" class=\"dataframe\">\n  <thead>\n    <tr style=\"text-align: right;\">\n      <th></th>\n      <th>Name</th>\n      <th>First_Name</th>\n      <th>Last_Name</th>\n    </tr>\n  </thead>\n  <tbody>\n    <tr>\n      <th>0</th>\n      <td>Braund, Mr. Owen Harris</td>\n      <td>Mr. Owen Harris</td>\n      <td>Braund</td>\n    </tr>\n    <tr>\n      <th>1</th>\n      <td>Cumings, Mrs. John Bradley (Florence Briggs Th...</td>\n      <td>Mrs. John Bradley (Florence Briggs Thayer)</td>\n      <td>Cumings</td>\n    </tr>\n    <tr>\n      <th>2</th>\n      <td>Heikkinen, Miss. Laina</td>\n      <td>Miss. Laina</td>\n      <td>Heikkinen</td>\n    </tr>\n    <tr>\n      <th>3</th>\n      <td>Futrelle, Mrs. Jacques Heath (Lily May Peel)</td>\n      <td>Mrs. Jacques Heath (Lily May Peel)</td>\n      <td>Futrelle</td>\n    </tr>\n    <tr>\n      <th>4</th>\n      <td>Allen, Mr. William Henry</td>\n      <td>Mr. William Henry</td>\n      <td>Allen</td>\n    </tr>\n    <tr>\n      <th>5</th>\n      <td>Moran, Mr. James</td>\n      <td>Mr. James</td>\n      <td>Moran</td>\n    </tr>\n    <tr>\n      <th>6</th>\n      <td>McCarthy, Mr. Timothy J</td>\n      <td>Mr. Timothy J</td>\n      <td>McCarthy</td>\n    </tr>\n    <tr>\n      <th>7</th>\n      <td>Palsson, Master. Gosta Leonard</td>\n      <td>Master. Gosta Leonard</td>\n      <td>Palsson</td>\n    </tr>\n    <tr>\n      <th>8</th>\n      <td>Johnson, Mrs. Oscar W (Elisabeth Vilhelmina Berg)</td>\n      <td>Mrs. Oscar W (Elisabeth Vilhelmina Berg)</td>\n      <td>Johnson</td>\n    </tr>\n    <tr>\n      <th>9</th>\n      <td>Nasser, Mrs. Nicholas (Adele Achem)</td>\n      <td>Mrs. Nicholas (Adele Achem)</td>\n      <td>Nasser</td>\n    </tr>\n  </tbody>\n</table>\n</div>"
     },
     "execution_count": 8,
     "metadata": {},
     "output_type": "execute_result"
    }
   ],
   "source": [
    "df[['Name','First_Name','Last_Name']].head(10)"
   ],
   "metadata": {
    "collapsed": false,
    "pycharm": {
     "name": "#%%\n"
    }
   }
  },
  {
   "cell_type": "markdown",
   "source": [
    "根据对英语国家文化的学习，了解到姓名前的Title也具有一定信息，经查阅资料和整合后，可知：\n",
    "* Mr：先生\n",
    "* Miss、Mlle、Ms：女士（未结婚或没有子女之类的）\n",
    "* Mrs、Mme：夫人（亦指已婚妇女）\n",
    "* Master：少爷（小孩，可能也包括一部分未婚成年贵族男性）\n",
    "* Rev：牧师\n",
    "* Dr：医生\n",
    "* Capt、Col、Major：上校、中校、少校（可能属于船上的船长、副船长等船员，故分为一类）\n",
    "* Don、Dona、Sir（先贵族和有地位的先生或女士）\n",
    "* Jonkheer、Countess、Lady：乡绅、伯爵（亦指有地位者）\n",
    "\n",
    "针对本项目背景，可以将人员根据Title划分为如下类别：\n",
    "* 普通男士和女士\n",
    "* 特征职业的人士，比如船员、医生、牧师，因为是海难，所以船员可单独分类\n",
    "* 有地位者、贵族等\n",
    "\n",
    "综上，我们可以将Title分为下面这几类\n",
    "* Mr：男士\n",
    "* Miss、Mlle、Ms、Mrs、Mme：女士\n",
    "* Rev、Dr：特征职业人员\n",
    "* Capt、Col、Major：船员\n",
    "* Master、Don、Dona、Sir、Jonkheer、Countess、Lady：有地位者\n",
    "\n",
    "所以，将之从姓名数据（First_Name）中单独抽离出来，作为一个新字段。"
   ],
   "metadata": {
    "collapsed": false,
    "pycharm": {
     "name": "#%% md\n"
    }
   }
  },
  {
   "cell_type": "code",
   "execution_count": 9,
   "outputs": [],
   "source": [
    "# 通过正则表达取出Title数据\n",
    "\n",
    "# 通过正则表达式分离出名称前面的Title标识\n",
    "df['Title'] = df['First_Name'].apply(lambda first_name: re.search('([A-Za-z]+)\\.', first_name, flags=0).group(1))\n",
    "\n",
    "# 通过分类标准对Title数据进行分类\n",
    "title_mapping = {'Mr': 1, 'Miss': 2, 'Mlle': 2, 'Ms': 2, 'Mrs': 2, 'Mme': 2,\n",
    "                 'Rev': 3, 'Dr': 3, 'Col': 4, 'Major': 4, 'Capt': 4,\n",
    "                 'Master': 5, 'Don': 5, 'Dona': 5, 'Lady': 5, 'Countess': 5, 'Jonkheer': 5, 'Sir': 5,\n",
    "                }\n",
    "# 将Title直接量化\n",
    "df['Title_Type'] = df['Title'].map(title_mapping)"
   ],
   "metadata": {
    "collapsed": false,
    "pycharm": {
     "name": "#%%\n"
    }
   }
  },
  {
   "cell_type": "code",
   "execution_count": 10,
   "outputs": [
    {
     "data": {
      "text/plain": "   Title_Type   Title                                   First_Name  Last_Name\n0           1      Mr                              Mr. Owen Harris     Braund\n1           2     Mrs   Mrs. John Bradley (Florence Briggs Thayer)    Cumings\n2           2    Miss                                  Miss. Laina  Heikkinen\n3           2     Mrs           Mrs. Jacques Heath (Lily May Peel)   Futrelle\n4           1      Mr                            Mr. William Henry      Allen\n5           1      Mr                                    Mr. James      Moran\n6           1      Mr                                Mr. Timothy J   McCarthy\n7           5  Master                        Master. Gosta Leonard    Palsson\n8           2     Mrs     Mrs. Oscar W (Elisabeth Vilhelmina Berg)    Johnson\n9           2     Mrs                  Mrs. Nicholas (Adele Achem)     Nasser",
      "text/html": "<div>\n<style scoped>\n    .dataframe tbody tr th:only-of-type {\n        vertical-align: middle;\n    }\n\n    .dataframe tbody tr th {\n        vertical-align: top;\n    }\n\n    .dataframe thead th {\n        text-align: right;\n    }\n</style>\n<table border=\"1\" class=\"dataframe\">\n  <thead>\n    <tr style=\"text-align: right;\">\n      <th></th>\n      <th>Title_Type</th>\n      <th>Title</th>\n      <th>First_Name</th>\n      <th>Last_Name</th>\n    </tr>\n  </thead>\n  <tbody>\n    <tr>\n      <th>0</th>\n      <td>1</td>\n      <td>Mr</td>\n      <td>Mr. Owen Harris</td>\n      <td>Braund</td>\n    </tr>\n    <tr>\n      <th>1</th>\n      <td>2</td>\n      <td>Mrs</td>\n      <td>Mrs. John Bradley (Florence Briggs Thayer)</td>\n      <td>Cumings</td>\n    </tr>\n    <tr>\n      <th>2</th>\n      <td>2</td>\n      <td>Miss</td>\n      <td>Miss. Laina</td>\n      <td>Heikkinen</td>\n    </tr>\n    <tr>\n      <th>3</th>\n      <td>2</td>\n      <td>Mrs</td>\n      <td>Mrs. Jacques Heath (Lily May Peel)</td>\n      <td>Futrelle</td>\n    </tr>\n    <tr>\n      <th>4</th>\n      <td>1</td>\n      <td>Mr</td>\n      <td>Mr. William Henry</td>\n      <td>Allen</td>\n    </tr>\n    <tr>\n      <th>5</th>\n      <td>1</td>\n      <td>Mr</td>\n      <td>Mr. James</td>\n      <td>Moran</td>\n    </tr>\n    <tr>\n      <th>6</th>\n      <td>1</td>\n      <td>Mr</td>\n      <td>Mr. Timothy J</td>\n      <td>McCarthy</td>\n    </tr>\n    <tr>\n      <th>7</th>\n      <td>5</td>\n      <td>Master</td>\n      <td>Master. Gosta Leonard</td>\n      <td>Palsson</td>\n    </tr>\n    <tr>\n      <th>8</th>\n      <td>2</td>\n      <td>Mrs</td>\n      <td>Mrs. Oscar W (Elisabeth Vilhelmina Berg)</td>\n      <td>Johnson</td>\n    </tr>\n    <tr>\n      <th>9</th>\n      <td>2</td>\n      <td>Mrs</td>\n      <td>Mrs. Nicholas (Adele Achem)</td>\n      <td>Nasser</td>\n    </tr>\n  </tbody>\n</table>\n</div>"
     },
     "execution_count": 10,
     "metadata": {},
     "output_type": "execute_result"
    }
   ],
   "source": [
    "df[['Title_Type','Title','First_Name','Last_Name']].head(10)"
   ],
   "metadata": {
    "collapsed": false,
    "pycharm": {
     "name": "#%%\n"
    }
   }
  },
  {
   "cell_type": "markdown",
   "source": [
    "根据对英语国家文化的学习，了解到一种说法，即姓名越长，表示表示家庭底蕴越丰厚，地位也就越高。为检验该说法是否正确，可以在将数据可视化时通过观察指标之间的关联度去确定。\n",
    "先对字段进行扩充。\n",
    "首先，直接通过len 函数获取每个名字的长度。"
   ],
   "metadata": {
    "collapsed": false,
    "pycharm": {
     "name": "#%% md\n"
    }
   }
  },
  {
   "cell_type": "code",
   "execution_count": 11,
   "outputs": [
    {
     "data": {
      "text/plain": "   Name_Len   Title  Title_Type\n0        23      Mr           1\n1        51     Mrs           2\n2        22    Miss           2\n3        44     Mrs           2\n4        24      Mr           1\n5        16      Mr           1\n6        23      Mr           1\n7        30  Master           5\n8        49     Mrs           2\n9        35     Mrs           2",
      "text/html": "<div>\n<style scoped>\n    .dataframe tbody tr th:only-of-type {\n        vertical-align: middle;\n    }\n\n    .dataframe tbody tr th {\n        vertical-align: top;\n    }\n\n    .dataframe thead th {\n        text-align: right;\n    }\n</style>\n<table border=\"1\" class=\"dataframe\">\n  <thead>\n    <tr style=\"text-align: right;\">\n      <th></th>\n      <th>Name_Len</th>\n      <th>Title</th>\n      <th>Title_Type</th>\n    </tr>\n  </thead>\n  <tbody>\n    <tr>\n      <th>0</th>\n      <td>23</td>\n      <td>Mr</td>\n      <td>1</td>\n    </tr>\n    <tr>\n      <th>1</th>\n      <td>51</td>\n      <td>Mrs</td>\n      <td>2</td>\n    </tr>\n    <tr>\n      <th>2</th>\n      <td>22</td>\n      <td>Miss</td>\n      <td>2</td>\n    </tr>\n    <tr>\n      <th>3</th>\n      <td>44</td>\n      <td>Mrs</td>\n      <td>2</td>\n    </tr>\n    <tr>\n      <th>4</th>\n      <td>24</td>\n      <td>Mr</td>\n      <td>1</td>\n    </tr>\n    <tr>\n      <th>5</th>\n      <td>16</td>\n      <td>Mr</td>\n      <td>1</td>\n    </tr>\n    <tr>\n      <th>6</th>\n      <td>23</td>\n      <td>Mr</td>\n      <td>1</td>\n    </tr>\n    <tr>\n      <th>7</th>\n      <td>30</td>\n      <td>Master</td>\n      <td>5</td>\n    </tr>\n    <tr>\n      <th>8</th>\n      <td>49</td>\n      <td>Mrs</td>\n      <td>2</td>\n    </tr>\n    <tr>\n      <th>9</th>\n      <td>35</td>\n      <td>Mrs</td>\n      <td>2</td>\n    </tr>\n  </tbody>\n</table>\n</div>"
     },
     "execution_count": 11,
     "metadata": {},
     "output_type": "execute_result"
    }
   ],
   "source": [
    "df['Name_Len'] = df['Name'].apply(lambda name: len(name))\n",
    "df[['Name_Len','Title','Title_Type']].head(10)"
   ],
   "metadata": {
    "collapsed": false,
    "pycharm": {
     "name": "#%%\n"
    }
   }
  },
  {
   "cell_type": "markdown",
   "source": [
    "最后，注意到SibSp和Parch可以表示随行人员数量，参照谚语“众人拾柴火焰高”，将之纳入影响生存结果的指标。\n",
    "经初步推敲，得出如下公式：\n",
    "\n",
    "$ CountTeam = SibSp + Parch + 1$\n",
    "\n",
    "即随行人员数量 = 堂兄弟姐妹 + 长辈和子女 + 自己1人\n",
    "根据公式对数据进行进一步扩充"
   ],
   "metadata": {
    "collapsed": false,
    "pycharm": {
     "name": "#%% md\n"
    }
   }
  },
  {
   "cell_type": "code",
   "execution_count": 12,
   "outputs": [
    {
     "data": {
      "text/plain": "                                                Name  CountTeam  SibSp  Parch\n0                            Braund, Mr. Owen Harris          2      1      0\n1  Cumings, Mrs. John Bradley (Florence Briggs Th...          2      1      0\n2                             Heikkinen, Miss. Laina          1      0      0\n3       Futrelle, Mrs. Jacques Heath (Lily May Peel)          2      1      0\n4                           Allen, Mr. William Henry          1      0      0\n5                                   Moran, Mr. James          1      0      0\n6                            McCarthy, Mr. Timothy J          1      0      0\n7                     Palsson, Master. Gosta Leonard          5      3      1\n8  Johnson, Mrs. Oscar W (Elisabeth Vilhelmina Berg)          3      0      2\n9                Nasser, Mrs. Nicholas (Adele Achem)          2      1      0",
      "text/html": "<div>\n<style scoped>\n    .dataframe tbody tr th:only-of-type {\n        vertical-align: middle;\n    }\n\n    .dataframe tbody tr th {\n        vertical-align: top;\n    }\n\n    .dataframe thead th {\n        text-align: right;\n    }\n</style>\n<table border=\"1\" class=\"dataframe\">\n  <thead>\n    <tr style=\"text-align: right;\">\n      <th></th>\n      <th>Name</th>\n      <th>CountTeam</th>\n      <th>SibSp</th>\n      <th>Parch</th>\n    </tr>\n  </thead>\n  <tbody>\n    <tr>\n      <th>0</th>\n      <td>Braund, Mr. Owen Harris</td>\n      <td>2</td>\n      <td>1</td>\n      <td>0</td>\n    </tr>\n    <tr>\n      <th>1</th>\n      <td>Cumings, Mrs. John Bradley (Florence Briggs Th...</td>\n      <td>2</td>\n      <td>1</td>\n      <td>0</td>\n    </tr>\n    <tr>\n      <th>2</th>\n      <td>Heikkinen, Miss. Laina</td>\n      <td>1</td>\n      <td>0</td>\n      <td>0</td>\n    </tr>\n    <tr>\n      <th>3</th>\n      <td>Futrelle, Mrs. Jacques Heath (Lily May Peel)</td>\n      <td>2</td>\n      <td>1</td>\n      <td>0</td>\n    </tr>\n    <tr>\n      <th>4</th>\n      <td>Allen, Mr. William Henry</td>\n      <td>1</td>\n      <td>0</td>\n      <td>0</td>\n    </tr>\n    <tr>\n      <th>5</th>\n      <td>Moran, Mr. James</td>\n      <td>1</td>\n      <td>0</td>\n      <td>0</td>\n    </tr>\n    <tr>\n      <th>6</th>\n      <td>McCarthy, Mr. Timothy J</td>\n      <td>1</td>\n      <td>0</td>\n      <td>0</td>\n    </tr>\n    <tr>\n      <th>7</th>\n      <td>Palsson, Master. Gosta Leonard</td>\n      <td>5</td>\n      <td>3</td>\n      <td>1</td>\n    </tr>\n    <tr>\n      <th>8</th>\n      <td>Johnson, Mrs. Oscar W (Elisabeth Vilhelmina Berg)</td>\n      <td>3</td>\n      <td>0</td>\n      <td>2</td>\n    </tr>\n    <tr>\n      <th>9</th>\n      <td>Nasser, Mrs. Nicholas (Adele Achem)</td>\n      <td>2</td>\n      <td>1</td>\n      <td>0</td>\n    </tr>\n  </tbody>\n</table>\n</div>"
     },
     "execution_count": 12,
     "metadata": {},
     "output_type": "execute_result"
    }
   ],
   "source": [
    "df['CountTeam'] = df['SibSp']+df['Parch'] + 1\n",
    "df[['Name','CountTeam','SibSp','Parch']].head(10)"
   ],
   "metadata": {
    "collapsed": false,
    "pycharm": {
     "name": "#%%\n"
    }
   }
  },
  {
   "cell_type": "markdown",
   "source": [
    "## 数据清洗\n",
    "### 缺失数据处理"
   ],
   "metadata": {
    "collapsed": false,
    "pycharm": {
     "name": "#%% md\n"
    }
   }
  },
  {
   "cell_type": "code",
   "execution_count": 13,
   "outputs": [
    {
     "data": {
      "text/plain": "PassengerId      0\nSurvived         0\nPclass           0\nName             0\nSex              0\nAge            177\nSibSp            0\nParch            0\nTicket           0\nFare             0\nCabin          687\nEmbarked         2\nLast_Name        0\nFirst_Name       0\nTitle            0\nTitle_Type       0\nName_Len         0\nCountTeam        0\ndtype: int64"
     },
     "execution_count": 13,
     "metadata": {},
     "output_type": "execute_result"
    }
   ],
   "source": [
    "df.isnull().sum()"
   ],
   "metadata": {
    "collapsed": false,
    "pycharm": {
     "name": "#%%\n"
    }
   }
  },
  {
   "cell_type": "markdown",
   "source": [
    "其中Age（缺失177）、Cabin（缺失687）、Embarked（缺失2），下面来对缺失数据挨个处理。\n",
    "\n",
    "#### 1.Embarked 填充"
   ],
   "metadata": {
    "collapsed": false,
    "pycharm": {
     "name": "#%% md\n"
    }
   }
  },
  {
   "cell_type": "code",
   "execution_count": 14,
   "outputs": [
    {
     "data": {
      "text/plain": "     PassengerId  Survived  Pclass                                       Name  \\\n61            62         1       1                        Icard, Miss. Amelie   \n829          830         1       1  Stone, Mrs. George Nelson (Martha Evelyn)   \n\n        Sex   Age  SibSp  Parch  Ticket  Fare Cabin Embarked Last_Name  \\\n61   female  38.0      0      0  113572  80.0   B28      NaN     Icard   \n829  female  62.0      0      0  113572  80.0   B28      NaN     Stone   \n\n                              First_Name Title  Title_Type  Name_Len  \\\n61                          Miss. Amelie  Miss           2        19   \n829   Mrs. George Nelson (Martha Evelyn)   Mrs           2        41   \n\n     CountTeam  \n61           1  \n829          1  ",
      "text/html": "<div>\n<style scoped>\n    .dataframe tbody tr th:only-of-type {\n        vertical-align: middle;\n    }\n\n    .dataframe tbody tr th {\n        vertical-align: top;\n    }\n\n    .dataframe thead th {\n        text-align: right;\n    }\n</style>\n<table border=\"1\" class=\"dataframe\">\n  <thead>\n    <tr style=\"text-align: right;\">\n      <th></th>\n      <th>PassengerId</th>\n      <th>Survived</th>\n      <th>Pclass</th>\n      <th>Name</th>\n      <th>Sex</th>\n      <th>Age</th>\n      <th>SibSp</th>\n      <th>Parch</th>\n      <th>Ticket</th>\n      <th>Fare</th>\n      <th>Cabin</th>\n      <th>Embarked</th>\n      <th>Last_Name</th>\n      <th>First_Name</th>\n      <th>Title</th>\n      <th>Title_Type</th>\n      <th>Name_Len</th>\n      <th>CountTeam</th>\n    </tr>\n  </thead>\n  <tbody>\n    <tr>\n      <th>61</th>\n      <td>62</td>\n      <td>1</td>\n      <td>1</td>\n      <td>Icard, Miss. Amelie</td>\n      <td>female</td>\n      <td>38.0</td>\n      <td>0</td>\n      <td>0</td>\n      <td>113572</td>\n      <td>80.0</td>\n      <td>B28</td>\n      <td>NaN</td>\n      <td>Icard</td>\n      <td>Miss. Amelie</td>\n      <td>Miss</td>\n      <td>2</td>\n      <td>19</td>\n      <td>1</td>\n    </tr>\n    <tr>\n      <th>829</th>\n      <td>830</td>\n      <td>1</td>\n      <td>1</td>\n      <td>Stone, Mrs. George Nelson (Martha Evelyn)</td>\n      <td>female</td>\n      <td>62.0</td>\n      <td>0</td>\n      <td>0</td>\n      <td>113572</td>\n      <td>80.0</td>\n      <td>B28</td>\n      <td>NaN</td>\n      <td>Stone</td>\n      <td>Mrs. George Nelson (Martha Evelyn)</td>\n      <td>Mrs</td>\n      <td>2</td>\n      <td>41</td>\n      <td>1</td>\n    </tr>\n  </tbody>\n</table>\n</div>"
     },
     "execution_count": 14,
     "metadata": {},
     "output_type": "execute_result"
    }
   ],
   "source": [
    "df.loc[df['Embarked'].isnull(),:]"
   ],
   "metadata": {
    "collapsed": false,
    "pycharm": {
     "name": "#%%\n"
    }
   }
  },
  {
   "cell_type": "markdown",
   "source": [
    "* 缺失特征：1等船舱的B28客舱的两位女士(一个38岁，一个62岁)\n",
    "* 填充方式：选择1等船舱的女性登录最多的港口进行填充"
   ],
   "metadata": {
    "collapsed": false,
    "pycharm": {
     "name": "#%% md\n"
    }
   }
  },
  {
   "cell_type": "code",
   "execution_count": 15,
   "outputs": [
    {
     "data": {
      "text/plain": "S    48\nC    43\nQ     1\nName: Embarked, dtype: int64"
     },
     "execution_count": 15,
     "metadata": {},
     "output_type": "execute_result"
    }
   ],
   "source": [
    "df.loc[(df['Pclass'] == 1) & (df['Sex'] == 'female'), 'Embarked'].value_counts()"
   ],
   "metadata": {
    "collapsed": false,
    "pycharm": {
     "name": "#%%\n"
    }
   }
  },
  {
   "cell_type": "markdown",
   "source": [
    "所以将这两位归入S入口"
   ],
   "metadata": {
    "collapsed": false,
    "pycharm": {
     "name": "#%% md\n"
    }
   }
  },
  {
   "cell_type": "code",
   "execution_count": 16,
   "outputs": [],
   "source": [
    "df.loc[df['Embarked'].isnull(),'Embarked'] = 'S'"
   ],
   "metadata": {
    "collapsed": false,
    "pycharm": {
     "name": "#%%\n"
    }
   }
  },
  {
   "cell_type": "markdown",
   "source": [
    "#### 2.Age 填充\n",
    "使用同等舱位、同一登船港口、同一性别的众数/均值进行填充。"
   ],
   "metadata": {
    "collapsed": false,
    "pycharm": {
     "name": "#%% md\n"
    }
   }
  },
  {
   "cell_type": "code",
   "execution_count": 17,
   "outputs": [
    {
     "data": {
      "text/plain": "    PassengerId  Survived  Pclass                          Name     Sex  Age  \\\n5             6         0       3              Moran, Mr. James    male  NaN   \n17           18         1       2  Williams, Mr. Charles Eugene    male  NaN   \n19           20         1       3       Masselmani, Mrs. Fatima  female  NaN   \n\n    SibSp  Parch  Ticket     Fare Cabin Embarked   Last_Name  \\\n5       0      0  330877   8.4583   NaN        Q       Moran   \n17      0      0  244373  13.0000   NaN        S    Williams   \n19      0      0    2649   7.2250   NaN        C  Masselmani   \n\n             First_Name Title  Title_Type  Name_Len  CountTeam  \n5             Mr. James    Mr           1        16          1  \n17   Mr. Charles Eugene    Mr           1        28          1  \n19          Mrs. Fatima   Mrs           2        23          1  ",
      "text/html": "<div>\n<style scoped>\n    .dataframe tbody tr th:only-of-type {\n        vertical-align: middle;\n    }\n\n    .dataframe tbody tr th {\n        vertical-align: top;\n    }\n\n    .dataframe thead th {\n        text-align: right;\n    }\n</style>\n<table border=\"1\" class=\"dataframe\">\n  <thead>\n    <tr style=\"text-align: right;\">\n      <th></th>\n      <th>PassengerId</th>\n      <th>Survived</th>\n      <th>Pclass</th>\n      <th>Name</th>\n      <th>Sex</th>\n      <th>Age</th>\n      <th>SibSp</th>\n      <th>Parch</th>\n      <th>Ticket</th>\n      <th>Fare</th>\n      <th>Cabin</th>\n      <th>Embarked</th>\n      <th>Last_Name</th>\n      <th>First_Name</th>\n      <th>Title</th>\n      <th>Title_Type</th>\n      <th>Name_Len</th>\n      <th>CountTeam</th>\n    </tr>\n  </thead>\n  <tbody>\n    <tr>\n      <th>5</th>\n      <td>6</td>\n      <td>0</td>\n      <td>3</td>\n      <td>Moran, Mr. James</td>\n      <td>male</td>\n      <td>NaN</td>\n      <td>0</td>\n      <td>0</td>\n      <td>330877</td>\n      <td>8.4583</td>\n      <td>NaN</td>\n      <td>Q</td>\n      <td>Moran</td>\n      <td>Mr. James</td>\n      <td>Mr</td>\n      <td>1</td>\n      <td>16</td>\n      <td>1</td>\n    </tr>\n    <tr>\n      <th>17</th>\n      <td>18</td>\n      <td>1</td>\n      <td>2</td>\n      <td>Williams, Mr. Charles Eugene</td>\n      <td>male</td>\n      <td>NaN</td>\n      <td>0</td>\n      <td>0</td>\n      <td>244373</td>\n      <td>13.0000</td>\n      <td>NaN</td>\n      <td>S</td>\n      <td>Williams</td>\n      <td>Mr. Charles Eugene</td>\n      <td>Mr</td>\n      <td>1</td>\n      <td>28</td>\n      <td>1</td>\n    </tr>\n    <tr>\n      <th>19</th>\n      <td>20</td>\n      <td>1</td>\n      <td>3</td>\n      <td>Masselmani, Mrs. Fatima</td>\n      <td>female</td>\n      <td>NaN</td>\n      <td>0</td>\n      <td>0</td>\n      <td>2649</td>\n      <td>7.2250</td>\n      <td>NaN</td>\n      <td>C</td>\n      <td>Masselmani</td>\n      <td>Mrs. Fatima</td>\n      <td>Mrs</td>\n      <td>2</td>\n      <td>23</td>\n      <td>1</td>\n    </tr>\n  </tbody>\n</table>\n</div>"
     },
     "execution_count": 17,
     "metadata": {},
     "output_type": "execute_result"
    }
   ],
   "source": [
    "df.loc[df['Age'].isnull(),:].head(3)"
   ],
   "metadata": {
    "collapsed": false,
    "pycharm": {
     "name": "#%%\n"
    }
   }
  },
  {
   "cell_type": "code",
   "execution_count": 18,
   "outputs": [],
   "source": [
    "def get_age(pclass,embarked,sex,data):\n",
    "    data = data.loc[(data['Pclass'] == pclass) & (data['Embarked'] == embarked) & (data['Sex'] == sex),]\n",
    "\n",
    "    if data.size<1:\n",
    "        pass\n",
    "    return data['Age'].mode()[0]\n",
    "\n",
    "df.loc[df['Age'].isnull(),'Age'] = df.loc[df['Age'].isnull(),['Pclass','Embarked','Sex']].apply(lambda info:get_age(info[0],info[1],info[2],df),axis=1)"
   ],
   "metadata": {
    "collapsed": false,
    "pycharm": {
     "name": "#%%\n"
    }
   }
  },
  {
   "cell_type": "markdown",
   "source": [
    "#### 3.Cabin 填充\n",
    "缺失值过多，填充的时候并不能保证我们填充的是否正确，不妨将空数据当作一类，非空的当作一类，即，缺失值当做直接置为Null，非空为NotNull。"
   ],
   "metadata": {
    "collapsed": false,
    "pycharm": {
     "name": "#%% md\n"
    }
   }
  },
  {
   "cell_type": "code",
   "execution_count": 19,
   "outputs": [
    {
     "data": {
      "text/plain": "   PassengerId  Survived  Pclass                      Name     Sex   Age  \\\n0            1         0       3   Braund, Mr. Owen Harris    male  22.0   \n2            3         1       3    Heikkinen, Miss. Laina  female  26.0   \n4            5         0       3  Allen, Mr. William Henry    male  35.0   \n\n   SibSp  Parch            Ticket   Fare Cabin Embarked  Last_Name  \\\n0      1      0         A/5 21171  7.250   NaN        S     Braund   \n2      0      0  STON/O2. 3101282  7.925   NaN        S  Heikkinen   \n4      0      0            373450  8.050   NaN        S      Allen   \n\n           First_Name Title  Title_Type  Name_Len  CountTeam  \n0     Mr. Owen Harris    Mr           1        23          2  \n2         Miss. Laina  Miss           2        22          1  \n4   Mr. William Henry    Mr           1        24          1  ",
      "text/html": "<div>\n<style scoped>\n    .dataframe tbody tr th:only-of-type {\n        vertical-align: middle;\n    }\n\n    .dataframe tbody tr th {\n        vertical-align: top;\n    }\n\n    .dataframe thead th {\n        text-align: right;\n    }\n</style>\n<table border=\"1\" class=\"dataframe\">\n  <thead>\n    <tr style=\"text-align: right;\">\n      <th></th>\n      <th>PassengerId</th>\n      <th>Survived</th>\n      <th>Pclass</th>\n      <th>Name</th>\n      <th>Sex</th>\n      <th>Age</th>\n      <th>SibSp</th>\n      <th>Parch</th>\n      <th>Ticket</th>\n      <th>Fare</th>\n      <th>Cabin</th>\n      <th>Embarked</th>\n      <th>Last_Name</th>\n      <th>First_Name</th>\n      <th>Title</th>\n      <th>Title_Type</th>\n      <th>Name_Len</th>\n      <th>CountTeam</th>\n    </tr>\n  </thead>\n  <tbody>\n    <tr>\n      <th>0</th>\n      <td>1</td>\n      <td>0</td>\n      <td>3</td>\n      <td>Braund, Mr. Owen Harris</td>\n      <td>male</td>\n      <td>22.0</td>\n      <td>1</td>\n      <td>0</td>\n      <td>A/5 21171</td>\n      <td>7.250</td>\n      <td>NaN</td>\n      <td>S</td>\n      <td>Braund</td>\n      <td>Mr. Owen Harris</td>\n      <td>Mr</td>\n      <td>1</td>\n      <td>23</td>\n      <td>2</td>\n    </tr>\n    <tr>\n      <th>2</th>\n      <td>3</td>\n      <td>1</td>\n      <td>3</td>\n      <td>Heikkinen, Miss. Laina</td>\n      <td>female</td>\n      <td>26.0</td>\n      <td>0</td>\n      <td>0</td>\n      <td>STON/O2. 3101282</td>\n      <td>7.925</td>\n      <td>NaN</td>\n      <td>S</td>\n      <td>Heikkinen</td>\n      <td>Miss. Laina</td>\n      <td>Miss</td>\n      <td>2</td>\n      <td>22</td>\n      <td>1</td>\n    </tr>\n    <tr>\n      <th>4</th>\n      <td>5</td>\n      <td>0</td>\n      <td>3</td>\n      <td>Allen, Mr. William Henry</td>\n      <td>male</td>\n      <td>35.0</td>\n      <td>0</td>\n      <td>0</td>\n      <td>373450</td>\n      <td>8.050</td>\n      <td>NaN</td>\n      <td>S</td>\n      <td>Allen</td>\n      <td>Mr. William Henry</td>\n      <td>Mr</td>\n      <td>1</td>\n      <td>24</td>\n      <td>1</td>\n    </tr>\n  </tbody>\n</table>\n</div>"
     },
     "execution_count": 19,
     "metadata": {},
     "output_type": "execute_result"
    }
   ],
   "source": [
    "df.loc[df['Cabin'].isnull(),:].head(3)"
   ],
   "metadata": {
    "collapsed": false,
    "pycharm": {
     "name": "#%%\n"
    }
   }
  },
  {
   "cell_type": "code",
   "execution_count": 20,
   "outputs": [],
   "source": [
    "df['Cabin'] = df['Cabin'].isnull().apply(lambda x:'Null' if x is True else 'NotNull')"
   ],
   "metadata": {
    "collapsed": false,
    "pycharm": {
     "name": "#%%\n"
    }
   }
  },
  {
   "cell_type": "markdown",
   "source": [],
   "metadata": {
    "collapsed": false,
    "pycharm": {
     "name": "#%% md\n"
    }
   }
  },
  {
   "cell_type": "code",
   "execution_count": 21,
   "outputs": [
    {
     "data": {
      "text/plain": "   PassengerId  Survived  Pclass  \\\n0            1         0       3   \n1            2         1       1   \n2            3         1       3   \n3            4         1       1   \n4            5         0       3   \n5            6         0       3   \n6            7         0       1   \n7            8         0       3   \n8            9         1       3   \n9           10         1       2   \n\n                                                Name     Sex   Age  SibSp  \\\n0                            Braund, Mr. Owen Harris    male  22.0      1   \n1  Cumings, Mrs. John Bradley (Florence Briggs Th...  female  38.0      1   \n2                             Heikkinen, Miss. Laina  female  26.0      0   \n3       Futrelle, Mrs. Jacques Heath (Lily May Peel)  female  35.0      1   \n4                           Allen, Mr. William Henry    male  35.0      0   \n5                                   Moran, Mr. James    male   2.0      0   \n6                            McCarthy, Mr. Timothy J    male  54.0      0   \n7                     Palsson, Master. Gosta Leonard    male   2.0      3   \n8  Johnson, Mrs. Oscar W (Elisabeth Vilhelmina Berg)  female  27.0      0   \n9                Nasser, Mrs. Nicholas (Adele Achem)  female  14.0      1   \n\n   Parch            Ticket     Fare    Cabin Embarked  Last_Name  \\\n0      0         A/5 21171   7.2500     Null        S     Braund   \n1      0          PC 17599  71.2833  NotNull        C    Cumings   \n2      0  STON/O2. 3101282   7.9250     Null        S  Heikkinen   \n3      0            113803  53.1000  NotNull        S   Futrelle   \n4      0            373450   8.0500     Null        S      Allen   \n5      0            330877   8.4583     Null        Q      Moran   \n6      0             17463  51.8625  NotNull        S   McCarthy   \n7      1            349909  21.0750     Null        S    Palsson   \n8      2            347742  11.1333     Null        S    Johnson   \n9      0            237736  30.0708     Null        C     Nasser   \n\n                                    First_Name   Title  Title_Type  Name_Len  \\\n0                              Mr. Owen Harris      Mr           1        23   \n1   Mrs. John Bradley (Florence Briggs Thayer)     Mrs           2        51   \n2                                  Miss. Laina    Miss           2        22   \n3           Mrs. Jacques Heath (Lily May Peel)     Mrs           2        44   \n4                            Mr. William Henry      Mr           1        24   \n5                                    Mr. James      Mr           1        16   \n6                                Mr. Timothy J      Mr           1        23   \n7                        Master. Gosta Leonard  Master           5        30   \n8     Mrs. Oscar W (Elisabeth Vilhelmina Berg)     Mrs           2        49   \n9                  Mrs. Nicholas (Adele Achem)     Mrs           2        35   \n\n   CountTeam  \n0          2  \n1          2  \n2          1  \n3          2  \n4          1  \n5          1  \n6          1  \n7          5  \n8          3  \n9          2  ",
      "text/html": "<div>\n<style scoped>\n    .dataframe tbody tr th:only-of-type {\n        vertical-align: middle;\n    }\n\n    .dataframe tbody tr th {\n        vertical-align: top;\n    }\n\n    .dataframe thead th {\n        text-align: right;\n    }\n</style>\n<table border=\"1\" class=\"dataframe\">\n  <thead>\n    <tr style=\"text-align: right;\">\n      <th></th>\n      <th>PassengerId</th>\n      <th>Survived</th>\n      <th>Pclass</th>\n      <th>Name</th>\n      <th>Sex</th>\n      <th>Age</th>\n      <th>SibSp</th>\n      <th>Parch</th>\n      <th>Ticket</th>\n      <th>Fare</th>\n      <th>Cabin</th>\n      <th>Embarked</th>\n      <th>Last_Name</th>\n      <th>First_Name</th>\n      <th>Title</th>\n      <th>Title_Type</th>\n      <th>Name_Len</th>\n      <th>CountTeam</th>\n    </tr>\n  </thead>\n  <tbody>\n    <tr>\n      <th>0</th>\n      <td>1</td>\n      <td>0</td>\n      <td>3</td>\n      <td>Braund, Mr. Owen Harris</td>\n      <td>male</td>\n      <td>22.0</td>\n      <td>1</td>\n      <td>0</td>\n      <td>A/5 21171</td>\n      <td>7.2500</td>\n      <td>Null</td>\n      <td>S</td>\n      <td>Braund</td>\n      <td>Mr. Owen Harris</td>\n      <td>Mr</td>\n      <td>1</td>\n      <td>23</td>\n      <td>2</td>\n    </tr>\n    <tr>\n      <th>1</th>\n      <td>2</td>\n      <td>1</td>\n      <td>1</td>\n      <td>Cumings, Mrs. John Bradley (Florence Briggs Th...</td>\n      <td>female</td>\n      <td>38.0</td>\n      <td>1</td>\n      <td>0</td>\n      <td>PC 17599</td>\n      <td>71.2833</td>\n      <td>NotNull</td>\n      <td>C</td>\n      <td>Cumings</td>\n      <td>Mrs. John Bradley (Florence Briggs Thayer)</td>\n      <td>Mrs</td>\n      <td>2</td>\n      <td>51</td>\n      <td>2</td>\n    </tr>\n    <tr>\n      <th>2</th>\n      <td>3</td>\n      <td>1</td>\n      <td>3</td>\n      <td>Heikkinen, Miss. Laina</td>\n      <td>female</td>\n      <td>26.0</td>\n      <td>0</td>\n      <td>0</td>\n      <td>STON/O2. 3101282</td>\n      <td>7.9250</td>\n      <td>Null</td>\n      <td>S</td>\n      <td>Heikkinen</td>\n      <td>Miss. Laina</td>\n      <td>Miss</td>\n      <td>2</td>\n      <td>22</td>\n      <td>1</td>\n    </tr>\n    <tr>\n      <th>3</th>\n      <td>4</td>\n      <td>1</td>\n      <td>1</td>\n      <td>Futrelle, Mrs. Jacques Heath (Lily May Peel)</td>\n      <td>female</td>\n      <td>35.0</td>\n      <td>1</td>\n      <td>0</td>\n      <td>113803</td>\n      <td>53.1000</td>\n      <td>NotNull</td>\n      <td>S</td>\n      <td>Futrelle</td>\n      <td>Mrs. Jacques Heath (Lily May Peel)</td>\n      <td>Mrs</td>\n      <td>2</td>\n      <td>44</td>\n      <td>2</td>\n    </tr>\n    <tr>\n      <th>4</th>\n      <td>5</td>\n      <td>0</td>\n      <td>3</td>\n      <td>Allen, Mr. William Henry</td>\n      <td>male</td>\n      <td>35.0</td>\n      <td>0</td>\n      <td>0</td>\n      <td>373450</td>\n      <td>8.0500</td>\n      <td>Null</td>\n      <td>S</td>\n      <td>Allen</td>\n      <td>Mr. William Henry</td>\n      <td>Mr</td>\n      <td>1</td>\n      <td>24</td>\n      <td>1</td>\n    </tr>\n    <tr>\n      <th>5</th>\n      <td>6</td>\n      <td>0</td>\n      <td>3</td>\n      <td>Moran, Mr. James</td>\n      <td>male</td>\n      <td>2.0</td>\n      <td>0</td>\n      <td>0</td>\n      <td>330877</td>\n      <td>8.4583</td>\n      <td>Null</td>\n      <td>Q</td>\n      <td>Moran</td>\n      <td>Mr. James</td>\n      <td>Mr</td>\n      <td>1</td>\n      <td>16</td>\n      <td>1</td>\n    </tr>\n    <tr>\n      <th>6</th>\n      <td>7</td>\n      <td>0</td>\n      <td>1</td>\n      <td>McCarthy, Mr. Timothy J</td>\n      <td>male</td>\n      <td>54.0</td>\n      <td>0</td>\n      <td>0</td>\n      <td>17463</td>\n      <td>51.8625</td>\n      <td>NotNull</td>\n      <td>S</td>\n      <td>McCarthy</td>\n      <td>Mr. Timothy J</td>\n      <td>Mr</td>\n      <td>1</td>\n      <td>23</td>\n      <td>1</td>\n    </tr>\n    <tr>\n      <th>7</th>\n      <td>8</td>\n      <td>0</td>\n      <td>3</td>\n      <td>Palsson, Master. Gosta Leonard</td>\n      <td>male</td>\n      <td>2.0</td>\n      <td>3</td>\n      <td>1</td>\n      <td>349909</td>\n      <td>21.0750</td>\n      <td>Null</td>\n      <td>S</td>\n      <td>Palsson</td>\n      <td>Master. Gosta Leonard</td>\n      <td>Master</td>\n      <td>5</td>\n      <td>30</td>\n      <td>5</td>\n    </tr>\n    <tr>\n      <th>8</th>\n      <td>9</td>\n      <td>1</td>\n      <td>3</td>\n      <td>Johnson, Mrs. Oscar W (Elisabeth Vilhelmina Berg)</td>\n      <td>female</td>\n      <td>27.0</td>\n      <td>0</td>\n      <td>2</td>\n      <td>347742</td>\n      <td>11.1333</td>\n      <td>Null</td>\n      <td>S</td>\n      <td>Johnson</td>\n      <td>Mrs. Oscar W (Elisabeth Vilhelmina Berg)</td>\n      <td>Mrs</td>\n      <td>2</td>\n      <td>49</td>\n      <td>3</td>\n    </tr>\n    <tr>\n      <th>9</th>\n      <td>10</td>\n      <td>1</td>\n      <td>2</td>\n      <td>Nasser, Mrs. Nicholas (Adele Achem)</td>\n      <td>female</td>\n      <td>14.0</td>\n      <td>1</td>\n      <td>0</td>\n      <td>237736</td>\n      <td>30.0708</td>\n      <td>Null</td>\n      <td>C</td>\n      <td>Nasser</td>\n      <td>Mrs. Nicholas (Adele Achem)</td>\n      <td>Mrs</td>\n      <td>2</td>\n      <td>35</td>\n      <td>2</td>\n    </tr>\n  </tbody>\n</table>\n</div>"
     },
     "execution_count": 21,
     "metadata": {},
     "output_type": "execute_result"
    }
   ],
   "source": [
    "df.head(10)"
   ],
   "metadata": {
    "collapsed": false,
    "pycharm": {
     "name": "#%%\n"
    }
   }
  },
  {
   "cell_type": "markdown",
   "source": [
    "## 数据可视化\n",
    "下面对结果进行初步分析并使用matplot做出对应图表。\n",
    "首先创建图标实例并初始化"
   ],
   "metadata": {
    "collapsed": false,
    "pycharm": {
     "name": "#%% md\n"
    }
   }
  },
  {
   "cell_type": "code",
   "execution_count": 22,
   "outputs": [
    {
     "data": {
      "text/plain": "<Figure size 1800x700 with 0 Axes>"
     },
     "metadata": {},
     "output_type": "display_data"
    }
   ],
   "source": [
    "# 创建画布并对参数进行设置\n",
    "fig = plt.figure(figsize=(18,7))\n",
    "alpha = ALPHA_SCATTER = 0.2\n",
    "ALPHA_BAR_CHART = 0.55\n",
    "plt.rcParams['font.sans-serif'] = 'OPPOSans'\n",
    "plt.rcParams['axes.unicode_minus'] = False"
   ],
   "metadata": {
    "collapsed": false,
    "pycharm": {
     "name": "#%%\n"
    }
   }
  },
  {
   "cell_type": "markdown",
   "source": [
    "### 0.有针对性地绘制图表\n",
    "本任务目的是根据数据中的特征预测个人是否能够生存，目前数据中的字段以及对应意义如下：\n",
    "* 定性数据——定类数据和定序数据，主要包括以下字段：\n",
    "    * PassengerId：乘客id\n",
    "    * Survived：生还or遇难\n",
    "    * Pclass：船舱等级\n",
    "    * Name：乘客姓名\n",
    "    * Sex：性别\n",
    "    * SibSp：堂兄弟/妹个数\n",
    "    * Parch：父母与小孩个数\n",
    "    * Ticket：船票信息\n",
    "    * Cabin：客舱\n",
    "    * Embarked：登船港口\n",
    "    * CabinType：客舱的分类（新增）\n",
    "    * Last_Name & First_Name & Title(新增姓名衍生列)\n",
    "    * Title：姓名的title标识（新增）\n",
    "    * Title_Type：Title的分类（新增）\n",
    "    * NameLen：姓名的长度（新增）\n",
    "    * CountTeam：家庭成员数（新增）\n",
    "* 定量数据——定距数据和定比数据，主要包括以下字段：\n",
    "    * Age：年龄\n",
    "    * Fare：票价\n",
    "\n",
    "* Pclass、Sex、SibSp、Parch、Embarked类别较少，可以进行条形图可视化\n",
    "* Age、Ticket为离散数据，可以用折线图、散点图可视化\n",
    "\n",
    "首先，绘制一个幸存者与遇难者数量对比的条形图。"
   ],
   "metadata": {
    "collapsed": false,
    "pycharm": {
     "name": "#%% md\n"
    }
   }
  },
  {
   "cell_type": "code",
   "execution_count": 23,
   "outputs": [
    {
     "data": {
      "text/plain": "Text(0.5, 1.0, '生存与遇难人数粗略对比（1 = 生存，0 = 遇难）')"
     },
     "execution_count": 23,
     "metadata": {},
     "output_type": "execute_result"
    },
    {
     "data": {
      "text/plain": "<Figure size 600x400 with 0 Axes>"
     },
     "metadata": {},
     "output_type": "display_data"
    },
    {
     "data": {
      "text/plain": "<Figure size 640x480 with 1 Axes>",
      "image/png": "[encoded data removed]"
     },
     "metadata": {},
     "output_type": "display_data"
    }
   ],
   "source": [
    "plt.figure(figsize=(6,4))\n",
    "fig, ax = plt.subplots()\n",
    "df.Survived.value_counts().plot(kind=\"barh\",color=\"blue\", alpha=ALPHA_BAR_CHART)\n",
    "ax.set_ylim(-1,len(df.Survived.value_counts()))\n",
    "plt.grid(visible=True, which='major', axis='x')\n",
    "plt.title(\"生存与遇难人数粗略对比（1 = 生存，0 = 遇难）\")"
   ],
   "metadata": {
    "collapsed": false,
    "pycharm": {
     "name": "#%%\n"
    }
   }
  },
  {
   "cell_type": "markdown",
   "source": [
    "下面针对各特征字段信息，对生存情况的分布进行绘制。"
   ],
   "metadata": {
    "collapsed": false,
    "pycharm": {
     "name": "#%% md\n"
    }
   }
  },
  {
   "cell_type": "code",
   "execution_count": 25,
   "outputs": [],
   "source": [
    "# 统计图"
   ],
   "metadata": {
    "collapsed": false,
    "pycharm": {
     "name": "#%%\n"
    }
   }
  },
  {
   "cell_type": "markdown",
   "source": [
    "## 有监督机器学习\n",
    "针对以上所得的数据以及分析的情况，有监督地展开机器学习"
   ],
   "metadata": {
    "collapsed": false,
    "pycharm": {
     "name": "#%% md\n"
    }
   }
  }
 ],
 "metadata": {
  "kernelspec": {
   "display_name": "Python 3",
   "language": "python",
   "name": "python3"
  },
  "language_info": {
   "codemirror_mode": {
    "name": "ipython",
    "version": 2
   },
   "file_extension": ".py",
   "mimetype": "text/x-python",
   "name": "python",
   "nbconvert_exporter": "python",
   "pygments_lexer": "ipython2",
   "version": "2.7.6"
  }
 },
 "nbformat": 4,
 "nbformat_minor": 0
}